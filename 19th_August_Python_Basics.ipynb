{
 "cells": [
  {
   "cell_type": "markdown",
   "id": "c88fc4eb-ce8c-46fb-8881-9cc08bd76f96",
   "metadata": {},
   "source": [
    "TOPIC: Python Basics Variable"
   ]
  },
  {
   "cell_type": "markdown",
   "id": "42e2c656-0f0a-4d25-83e3-5f4a9e5e93d9",
   "metadata": {},
   "source": [
    "1. Declare two variables, `x` and `y`, and assign them integer values. Swap the values of these variables without using any temporary variable?"
   ]
  },
  {
   "cell_type": "code",
   "execution_count": 29,
   "id": "2c0a0e9b-d18d-45be-95fd-d26a77f0989d",
   "metadata": {},
   "outputs": [],
   "source": [
    "#Decalring the variables with integer values in below\n",
    "x=10\n",
    "y=20\n",
    "\n",
    "# Swaping the values without using any temporary variables.\n",
    "x=x+y\n",
    "y=x-y\n",
    "x=x-y"
   ]
  },
  {
   "cell_type": "code",
   "execution_count": 32,
   "id": "7c6e8f0c-cdec-4936-a3d0-c91beaa46aec",
   "metadata": {},
   "outputs": [
    {
     "data": {
      "text/plain": [
       "(20, 10)"
      ]
     },
     "execution_count": 32,
     "metadata": {},
     "output_type": "execute_result"
    }
   ],
   "source": [
    "x,y"
   ]
  },
  {
   "cell_type": "markdown",
   "id": "7a269fae-82ef-46fb-baa0-378e6576012f",
   "metadata": {},
   "source": [
    "2. Create a program that calculates the area of a rectangle. Take the length and width as inputs from the user and store them in variables. Calculate and display the area?"
   ]
  },
  {
   "cell_type": "code",
   "execution_count": 40,
   "id": "46b46c46-7354-45b1-b61c-d6b3b6f5aa61",
   "metadata": {},
   "outputs": [
    {
     "name": "stdin",
     "output_type": "stream",
     "text": [
      "Enter the length value: 34\n",
      "Enter the width value: 2\n"
     ]
    },
    {
     "name": "stdout",
     "output_type": "stream",
     "text": [
      "Area of rectagle is : 68\n"
     ]
    }
   ],
   "source": [
    "# Taking the inputs length and width values from user and type casting with integer\n",
    "length = int(input(\"Enter the length value:\"))\n",
    "width = int(input(\"Enter the width value:\"))\n",
    "\n",
    "#Calculating the area Formula\n",
    "# a= l * w  (a= area of rectagle, l= length, w= width)\n",
    "a=length * width\n",
    "print(\"Area of rectagle is :\", a)"
   ]
  },
  {
   "cell_type": "markdown",
   "id": "e25ccc9e-b3c1-4702-9d19-c4b82ae28750",
   "metadata": {},
   "source": [
    "3. Write a Python program that converts temperatures from Celsius to Fahrenheit. Take the temperature in Celsius as input, store it in a variable, convert it to Fahrenheit, and display the result?"
   ]
  },
  {
   "cell_type": "code",
   "execution_count": 46,
   "id": "e11caac0-f055-4f1f-a427-8bb1d3244636",
   "metadata": {},
   "outputs": [
    {
     "name": "stdin",
     "output_type": "stream",
     "text": [
      "Enter the temperature value in celsius: 6\n"
     ]
    },
    {
     "name": "stdout",
     "output_type": "stream",
     "text": [
      "Converted Temparature from Celsius to Fahrenheit: 42.8\n"
     ]
    }
   ],
   "source": [
    "#Taking temparature value from user in celsius\n",
    "temp_celsius = int(input(\"Enter the temperature value in celsius:\"))\n",
    "#To convert fahrenheit the formula is (fahrenheit = (1.8 * celsius) + 32)\n",
    "fahrenheit = (1.8 * temp_celsius +32)\n",
    "print(\"Converted Temparature from Celsius to Fahrenheit:\", fahrenheit) "
   ]
  },
  {
   "cell_type": "markdown",
   "id": "18fab59c-c084-4a8e-8280-6271b94499eb",
   "metadata": {},
   "source": [
    "TOPIC: String Based Questions"
   ]
  },
  {
   "cell_type": "markdown",
   "id": "9fc92c6b-ad42-463c-95aa-36ed598741b2",
   "metadata": {},
   "source": [
    "1. Write a Python program that takes a string as input and prints the length of the string?"
   ]
  },
  {
   "cell_type": "code",
   "execution_count": 49,
   "id": "ffb8fdd1-3dac-4dd1-90df-75e133dd3a11",
   "metadata": {},
   "outputs": [
    {
     "name": "stdin",
     "output_type": "stream",
     "text": [
      "Please enter the string: pwskills\n"
     ]
    },
    {
     "name": "stdout",
     "output_type": "stream",
     "text": [
      "Input string length is: 8\n"
     ]
    }
   ],
   "source": [
    "# Taking the input string from the user\n",
    "input_str = input(\"Please enter the string:\")\n",
    "#printing the length of input string by using len() function\n",
    "length = len(input_str)\n",
    "print(\"Input string length is:\", length)"
   ]
  },
  {
   "cell_type": "markdown",
   "id": "62c9e33a-6072-4805-9c85-eb86daf988de",
   "metadata": {},
   "source": [
    "2. Create a program that takes a sentence from the user and counts the number of vowels (a, e, i, o, u) in the string?"
   ]
  },
  {
   "cell_type": "code",
   "execution_count": 86,
   "id": "8569eb0e-31e1-4743-8be9-bf780b837580",
   "metadata": {},
   "outputs": [
    {
     "name": "stdin",
     "output_type": "stream",
     "text": [
      "Enter the sentence: Python LEARNING\n"
     ]
    },
    {
     "name": "stdout",
     "output_type": "stream",
     "text": [
      "Count of Vowels in a given String: 4\n"
     ]
    }
   ],
   "source": [
    "# Taking the input sentance from the user as input\n",
    "sentence = input(\"Enter the sentence:\")\n",
    "#Declaring the vowels in a variable (small letter and capital)\n",
    "vowels = 'aeiouAEIOU'\n",
    "#using for loop calculating the count\n",
    "count = sum(sentence.count(i) for i in vowels)\n",
    "print(\"Count of Vowels in a given String:\",count)\n",
    "    "
   ]
  },
  {
   "cell_type": "markdown",
   "id": "f12f0e02-c697-4534-97f4-bf0dcff58bb4",
   "metadata": {},
   "source": [
    "3. Given a string, reverse the order of characters using string slicing and print the reversed string?"
   ]
  },
  {
   "cell_type": "code",
   "execution_count": 85,
   "id": "bb157687-28c7-43be-9416-bc8b9a98954d",
   "metadata": {},
   "outputs": [
    {
     "name": "stdin",
     "output_type": "stream",
     "text": [
      "Enter the input string: Python learning\n"
     ]
    },
    {
     "name": "stdout",
     "output_type": "stream",
     "text": [
      "Reverse string is: gninrael nohtyP\n"
     ]
    }
   ],
   "source": [
    "#Enter the input string from user\n",
    "input_string = input(\"Enter the input string:\")\n",
    "\n",
    "#Reversing the string by using slicing method\n",
    "reverse_string = input_string[::-1]\n",
    "\n",
    "#Printing the reversed string\n",
    "print(\"Reverse string is:\", reverse_string)\n"
   ]
  },
  {
   "cell_type": "markdown",
   "id": "b6a43b4c-e062-474c-b8f1-4d47eb89e534",
   "metadata": {},
   "source": [
    "4. Write a program that takes a string as input and checks if it is a palindrome (reads the same forwards and backwards)?"
   ]
  },
  {
   "cell_type": "code",
   "execution_count": 79,
   "id": "f43c88bd-84d7-46f0-9902-ab74d570cef4",
   "metadata": {},
   "outputs": [
    {
     "name": "stdin",
     "output_type": "stream",
     "text": [
      "Please enter the string: level\n"
     ]
    },
    {
     "name": "stdout",
     "output_type": "stream",
     "text": [
      "Given string is a Palindrome\n"
     ]
    }
   ],
   "source": [
    "# Enter the input string from user\n",
    "input_str = input(\"Please enter the string:\")\n",
    "\n",
    "#Checking the given string is palindrome or not by using slicing method\n",
    "if input_str == input_str[::-1]:\n",
    "    print(\"Given string is a Palindrome\")\n",
    "else:\n",
    "    print(\"Given string is not a Palindrome\")"
   ]
  },
  {
   "cell_type": "markdown",
   "id": "afa95620-4414-46c2-a425-bd63b6300dcd",
   "metadata": {},
   "source": [
    "5. Create a program that takes a string as input and removes all the spaces from it. Print the modified string without spaces?"
   ]
  },
  {
   "cell_type": "code",
   "execution_count": 84,
   "id": "19bc33aa-e0b3-48a0-b29a-4f44319ca239",
   "metadata": {},
   "outputs": [
    {
     "name": "stdin",
     "output_type": "stream",
     "text": [
      "Please enter the string with spaces: pw skills\n"
     ]
    },
    {
     "name": "stdout",
     "output_type": "stream",
     "text": [
      "After removing the spaces from the input string: pwskills\n"
     ]
    }
   ],
   "source": [
    "#Taking the input string from the user\n",
    "input_string = input(\"Please enter the string with spaces:\")\n",
    "\n",
    "#Removing the spaces by using the replace function\n",
    "output_string = input_string.replace(' ', '')\n",
    "\n",
    "print(\"After removing the spaces from the input string:\", output_string)"
   ]
  }
 ],
 "metadata": {
  "kernelspec": {
   "display_name": "Python 3 (ipykernel)",
   "language": "python",
   "name": "python3"
  },
  "language_info": {
   "codemirror_mode": {
    "name": "ipython",
    "version": 3
   },
   "file_extension": ".py",
   "mimetype": "text/x-python",
   "name": "python",
   "nbconvert_exporter": "python",
   "pygments_lexer": "ipython3",
   "version": "3.10.8"
  }
 },
 "nbformat": 4,
 "nbformat_minor": 5
}
